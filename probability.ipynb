{
 "cells": [
  {
   "cell_type": "code",
   "execution_count": 1,
   "id": "51a0c0de",
   "metadata": {},
   "outputs": [
    {
     "name": "stdout",
     "output_type": "stream",
     "text": [
      "Coin toss simulation (10000 trials)\n",
      "Number of Heads: 5117 and Tails: 4883\n",
      "P(Head): 0.5117\n",
      "P(Tail): 0.4883\n"
     ]
    }
   ],
   "source": [
    "import random\n",
    "\n",
    "def coin_toss_simulation(trials=10000):\n",
    "    head = 0   # counter for heads\n",
    "    tail = 0   # counter for tails\n",
    "\n",
    "    # Repeat coin toss 'trials' times\n",
    "    for i in range(trials):\n",
    "        toss = random.choice([\"H\", \"T\"])  # randomly choose Head or Tail\n",
    "        if toss == \"H\":\n",
    "            head += 1   # increment head count\n",
    "        else:\n",
    "            tail += 1   # increment tail count\n",
    "\n",
    "    # Compute probabilities\n",
    "    pro_head = head / trials\n",
    "    pro_tail = tail / trials\n",
    "\n",
    "    # Print results\n",
    "    print(\"Coin toss simulation ({} trials)\".format(trials))\n",
    "    print(\"Number of Heads: {} and Tails: {}\".format(head, tail))\n",
    "    print(\"P(Head):\", pro_head)\n",
    "    print(\"P(Tail):\", pro_tail)\n",
    "\n",
    "# Run simulation\n",
    "coin_toss_simulation()\n"
   ]
  },
  {
   "cell_type": "markdown",
   "id": "24dfe92f",
   "metadata": {},
   "source": [
    "First, we imported the random module to generate random outcomes. Then, we simulated tossing a coin 10,000 times by randomly choosing between \"H\" (heads) and \"T\" (tails). We counted how many times each occurred and calculated the experimental probability by dividing the counts by the total number of tosses.\n",
    "\n",
    "Next, we simulated rolling two dice 10,000 times using random numbers from 1 to 6 for each die. We checked how often the sum of the two dice equaled 7 and calculated its probability.\n",
    "\n",
    "The results show that the experimental probabilities are very close to the theoretical values: about 0.5 for heads and tails in coin tosses, and about 1/6 (0.1667) for the sum of 7 in dice rolls. This demonstrates how simulations can approximate theoretical probabilities when repeated many times."
   ]
  },
  {
   "cell_type": "markdown",
   "id": "8dbebaf4",
   "metadata": {},
   "source": [
    "In this program, we simulate rolling two dice multiple times to estimate the probability of getting a sum of 7. The function dice_roll_simulation() runs the experiment for a given number of trials (default 10,000).\n",
    "\n",
    "Two dice are rolled using random.randint(1, 6), which generates a random number between 1 and 6 for each die.\n",
    "\n",
    "If the sum of the two dice equals 7, it is counted as a successful outcome.\n",
    "Finally, the code prints the total number of successes and the estimated probability.\n",
    "\n",
    "The result is usually close to the theoretical probability of getting a sum of 7 with two dice, which is 1/6 ≈ 0.1667."
   ]
  },
  {
   "cell_type": "code",
   "execution_count": 2,
   "id": "09df118f",
   "metadata": {},
   "outputs": [
    {
     "name": "stdout",
     "output_type": "stream",
     "text": [
      "In dice simulation (10000 trials)\n",
      "The number of times sum of seven appeared: 1607\n",
      "Estimated Probability of getting sum of seven: 0.1607\n"
     ]
    }
   ],
   "source": [
    "import random\n",
    "\n",
    "def dice_roll_simulation(trials=10000):\n",
    "    sum_seven = 0   # counter for successful outcomes (sum = 7)\n",
    "\n",
    "    # Repeat the experiment 'trials' times\n",
    "    for i in range(trials):\n",
    "        # Roll two dice (each gives a random number between 1 and 6)\n",
    "        dice1 = random.randint(1, 6)\n",
    "        dice2 = random.randint(1, 6)\n",
    "\n",
    "        # Check if their sum equals 7\n",
    "        if dice1 + dice2 == 7:\n",
    "            sum_seven += 1   # count this as success\n",
    "\n",
    "    # Compute probability = successes / total trials\n",
    "    pro_getting_sum_of_seven = sum_seven / trials\n",
    "\n",
    "    # Print results\n",
    "    print(\"In dice simulation ({} trials)\".format(trials))\n",
    "    print(\"The number of times sum of seven appeared:\", sum_seven)\n",
    "    print(\"Estimated Probability of getting sum of seven:\", pro_getting_sum_of_seven)\n",
    "\n",
    "# Run simulation\n",
    "dice_roll_simulation()\n"
   ]
  },
  {
   "cell_type": "markdown",
   "id": "b20317a2",
   "metadata": {},
   "source": [
    "In this program, we estimate the probability of getting at least one 6 when a die is rolled 10 times.\n",
    "\n",
    "The experiment is repeated for a large number of trials (default: 10,000).\n",
    "\n",
    "In each trial, the die is rolled 10 times.\n",
    "\n",
    "If a 6 appears at least once, the trial is counted as a success. To save time, the code stops rolling further in that trial as soon as a 6 appears.\n",
    "Finally, the program prints the number of successful trials and the estimated probability."
   ]
  },
  {
   "cell_type": "code",
   "execution_count": 3,
   "id": "4c6c121d",
   "metadata": {},
   "outputs": [
    {
     "name": "stdout",
     "output_type": "stream",
     "text": [
      "Number of rolls per trial: 10\n",
      "Number of trials done: 10000\n",
      "The number of trials where at least one 6 appeared: 8397\n",
      "The probability of getting at least one 6 in 10 rolls: 0.8397\n"
     ]
    }
   ],
   "source": [
    "import random\n",
    "\n",
    "def dice_roll(trials=10000):\n",
    "    success = 0      # counter for successful trials (at least one '6')\n",
    "    roll = 10        # number of dice rolls in each trial\n",
    "\n",
    "    # Repeat the experiment 'trials' times\n",
    "    for i in range(trials):\n",
    "        six_found = False   # flag to check if '6' appeared in this trial\n",
    "\n",
    "        # Roll the die 'roll' times in one trial\n",
    "        for j in range(roll):\n",
    "            dice = random.randint(1, 6)  # generate random number between 1 and 6\n",
    "            if dice == 6:                # check if it's a '6'\n",
    "                six_found = True         # mark success for this trial\n",
    "                break                    # no need to continue, stop early\n",
    "\n",
    "        # After 10 rolls, check if this trial was successful\n",
    "        if six_found:\n",
    "            success += 1\n",
    "\n",
    "        # Probability (updated after each trial, but final value is at the end)\n",
    "        pro_six = success / trials\n",
    "\n",
    "    # Print results\n",
    "    print(\"Number of rolls per trial:\", roll)\n",
    "    print(\"Number of trials done:\", trials)\n",
    "    print(\"The number of trials where at least one 6 appeared:\", success) \n",
    "    print(\"The probability of getting at least one 6 in 10 rolls:\", pro_six)\n",
    "\n",
    "# Run simulation\n",
    "dice_roll()\n"
   ]
  },
  {
   "cell_type": "markdown",
   "id": "aa48eb0e",
   "metadata": {},
   "source": [
    "This program demonstrates conditional probability and Bayes’ theorem through a simulation of drawing balls from a bag. The bag contains 5 red balls, 7 green balls, and 8 blue balls. A large number of trials (for example, 1000) are performed, and in each trial, one ball is chosen at random.\n",
    "\n",
    "After recording all draws, the program focuses on the conditional probability P(Red | Previous = Blue). This means: given that the previous ball drawn was blue, what is the probability that the current ball is red? To estimate this, the simulation counts the number of times a red ball follows a blue ball and divides it by the total number of times a blue ball appeared as the previous draw.\n",
    "\n",
    "Next, the program also estimates the simple probabilities of drawing red or blue: P(R) and P(B). Then, it calculates the reverse conditional probability P(Blue | Red), which is the probability that the previous ball was blue given the current ball is red.\n",
    "\n",
    "The values from the simulation are compared, showing that the probability found directly from the draws is very close to the value predicted by Bayes’ theorem."
   ]
  },
  {
   "cell_type": "code",
   "execution_count": 4,
   "id": "4b143c41",
   "metadata": {},
   "outputs": [
    {
     "name": "stdout",
     "output_type": "stream",
     "text": [
      "Out of 1000 draws:\n",
      "P(Red | Previous=Blue) ≈ 0.2864\n",
      "P(Red) ≈ 0.2330\n",
      "P(Blue) ≈ 0.4130\n",
      "P(Blue | Red) ≈ 0.5064\n",
      "Bayes’ theorem RHS = 0.2857\n"
     ]
    }
   ],
   "source": [
    "import random\n",
    "\n",
    "def simulate_balls_draw(trials=1000):\n",
    "    colors = [\"R\"] * 5 + [\"G\"] * 7 + [\"B\"] * 8   # bag composition\n",
    "    draws = []\n",
    "\n",
    "    # Step 1: Perform draws\n",
    "    for _ in range(trials):\n",
    "        ball = random.choice(colors)  # pick one ball\n",
    "        draws.append(ball)\n",
    "\n",
    "    # Step 2: Compute conditional probability P(Red | Previous=Blue)\n",
    "    count_blue = 0\n",
    "    count_red_given_blue = 0\n",
    "\n",
    "    for i in range(1, trials):\n",
    "        if draws[i-1] == \"B\":  # check previous ball\n",
    "            count_blue += 1\n",
    "            if draws[i] == \"R\":\n",
    "                count_red_given_blue += 1\n",
    "\n",
    "    if count_blue > 0:\n",
    "        prob_red_given_blue = count_red_given_blue / count_blue\n",
    "    else:\n",
    "        prob_red_given_blue = 0\n",
    "\n",
    "    # Step 3: Estimate probabilities for Bayes' theorem\n",
    "    # P(R) - probability of red\n",
    "    p_red = draws.count(\"R\") / trials\n",
    "    # P(B) - probability of blue\n",
    "    p_blue = draws.count(\"B\") / trials\n",
    "    # P(B|R) - probability previous ball = blue given current = red\n",
    "    count_red = draws.count(\"R\")\n",
    "    count_blue_given_red = 0\n",
    "    for i in range(1, trials):\n",
    "        if draws[i] == \"R\" and draws[i-1] == \"B\":\n",
    "            count_blue_given_red += 1\n",
    "    p_blue_given_red = count_blue_given_red / count_red if count_red > 0 else 0\n",
    "\n",
    "    # Step 4: Bayes’ theorem check\n",
    "    bayes_rhs = (p_blue_given_red * p_red) / p_blue if p_blue > 0 else 0\n",
    "\n",
    "    # Print results\n",
    "    print(f\"Out of {trials} draws:\")\n",
    "    print(f\"P(Red | Previous=Blue) ≈ {prob_red_given_blue:.4f}\")\n",
    "    print(f\"P(Red) ≈ {p_red:.4f}\")\n",
    "    print(f\"P(Blue) ≈ {p_blue:.4f}\")\n",
    "    print(f\"P(Blue | Red) ≈ {p_blue_given_red:.4f}\")\n",
    "    print(f\"Bayes’ theorem RHS = {bayes_rhs:.4f}\")\n",
    "    \n",
    "# Run simulation\n",
    "simulate_balls_draw()\n"
   ]
  },
  {
   "cell_type": "markdown",
   "id": "3f8576e9",
   "metadata": {},
   "source": [
    "This program simulates a discrete random variable with three possible values: 1, 2, and 3. Each value has a specified probability of occurring: 1 occurs with probability 0.25, 2 with probability 0.35, and 3 with probability 0.40.\n",
    "\n",
    "A random sample of a chosen size (for example, 1000 values) is generated according to these probabilities. This simulates repeatedly observing the random variable in practice.\n",
    "\n",
    "After generating the sample, the program calculates three important statistical measures:\n",
    "\n",
    "Mean (average): Represents the central value of the data.\n",
    "\n",
    "Variance: Measures how much the values are spread out around the mean.\n",
    "\n",
    "Standard Deviation: The square root of variance, which indicates the typical distance of values from the mean.\n",
    "\n",
    "Finally, the program prints the sample size along with the estimated mean, variance, and standard deviation. These results give the empirical estimates of the random variable’s behavior. As the sample size becomes larger, these values get closer to the true theoretical mean and variance, showing the reliability of probability models when tested with simulations."
   ]
  },
  {
   "cell_type": "code",
   "execution_count": 5,
   "id": "0d8515a3",
   "metadata": {},
   "outputs": [
    {
     "name": "stdout",
     "output_type": "stream",
     "text": [
      "Sample size: 1000\n",
      "Empirical Mean = 2.1030\n",
      "Empirical Variance = 0.6144\n",
      "Empirical Standard Deviation = 0.7838\n"
     ]
    }
   ],
   "source": [
    "import numpy as np\n",
    "\n",
    "def simulate_discrete_rv(sample_size=1000):\n",
    "    # Step 1: Define the values and their probabilities\n",
    "    values = [1, 2, 3]\n",
    "    probabilities = [0.25, 0.35, 0.40]\n",
    "\n",
    "    # Step 2: Generate a random sample\n",
    "    sample = np.random.choice(values, size=sample_size, p=probabilities)\n",
    "\n",
    "    # Step 3: Compute statistics\n",
    "    mean = np.mean(sample)\n",
    "    variance = np.var(sample)\n",
    "    std_dev = np.std(sample)\n",
    "\n",
    "    # Print results\n",
    "    print(f\"Sample size: {sample_size}\")\n",
    "    print(f\"Empirical Mean = {mean:.4f}\")\n",
    "    print(f\"Empirical Variance = {variance:.4f}\")\n",
    "    print(f\"Empirical Standard Deviation = {std_dev:.4f}\")\n",
    "\n",
    "# Run simulation\n",
    "simulate_discrete_rv()\n"
   ]
  },
  {
   "cell_type": "markdown",
   "id": "2041ed21",
   "metadata": {},
   "source": [
    "This program demonstrates the exponential probability distribution using simulation and visualization. The exponential distribution is often used to model waiting times or the time between events in a process that occurs continuously and independently at a constant rate.\n",
    "\n",
    "The program first generates a large number of random samples (for example, 2000) from the exponential distribution with a given mean. These samples represent observed values of a random variable that follows this distribution.\n",
    "\n",
    "Next, the program creates a histogram of the simulated data. The histogram shows how frequently different values occur and provides an empirical picture of the distribution’s shape.\n",
    "\n",
    "After that, the program calculates and plots the theoretical probability density function (PDF) of the exponential distribution for comparison. The PDF has a characteristic decreasing curve that starts high at zero and gradually slopes down as the value increases.\n",
    "\n",
    "Finally, the histogram and the theoretical curve are displayed together on the same graph. The comparison shows that the simulated data closely follows the theoretical distribution, confirming that random sampling from a probability model reproduces its expected shape when the sample size is large enough."
   ]
  },
  {
   "cell_type": "code",
   "execution_count": 6,
   "id": "056dbb45",
   "metadata": {},
   "outputs": [
    {
     "data": {
      "image/png": "[encoded data removed]",
      "text/plain": [
       "<Figure size 640x480 with 1 Axes>"
      ]
     },
     "metadata": {},
     "output_type": "display_data"
    }
   ],
   "source": [
    "import numpy as np\n",
    "import matplotlib.pyplot as plt\n",
    "\n",
    "def exponential_simulation(samples=2000, mean=5):\n",
    "    # Step 1: Generate random samples\n",
    "    # numpy takes scale = mean (since scale = 1/λ)\n",
    "    data = np.random.exponential(scale=mean, size=samples)\n",
    "\n",
    "    # Step 2: Plot histogram of the data (normalized to density)\n",
    "    count, bins, ignored = plt.hist(data, bins=30, density=True, alpha=0.6, color='skyblue', edgecolor='black', label=\"Histogram\")\n",
    "\n",
    "    # Step 3: Plot the theoretical PDF\n",
    "    # Exponential distribution PDF: f(x) = (1/mean) * exp(-x/mean), x >= 0\n",
    "    x = np.linspace(0, max(data), 1000)\n",
    "    pdf = (1/mean) * np.exp(-x/mean)\n",
    "\n",
    "    plt.plot(x, pdf, 'r-', linewidth=2, label=\"Theoretical PDF\")\n",
    "\n",
    "    # Step 4: Labels and title\n",
    "    plt.title(f\"Exponential Distribution (mean={mean}, samples={samples})\")\n",
    "    plt.xlabel(\"Value\")\n",
    "    plt.ylabel(\"Density\")\n",
    "    plt.legend()\n",
    "    plt.grid(True)\n",
    "    plt.show()\n",
    "\n",
    "# Run simulation\n",
    "exponential_simulation()\n"
   ]
  },
  {
   "cell_type": "markdown",
   "id": "22a9851e",
   "metadata": {},
   "source": [
    "This program illustrates the Central Limit Theorem (CLT) using simulation. The Central Limit Theorem states that when we take repeated samples from any population distribution and compute their means, the distribution of these sample means tends to follow a normal (bell-shaped) curve as the sample size increases, regardless of the shape of the original distribution.\n",
    "\n",
    "In this experiment, the program first generates 10,000 random numbers from a uniform distribution between 0 and 1. This distribution is flat, meaning all values between 0 and 1 are equally likely.\n",
    "\n",
    "Next, it repeatedly selects 1000 random samples, each of size 30, from this data. For each sample, the mean value is calculated and stored. These sample means form a new distribution.\n",
    "\n",
    "Finally, two histograms are displayed:\n",
    "\n",
    "The left plot shows the original uniform distribution, which is flat.\n",
    "\n",
    "The right plot shows the distribution of the sample means, which now resembles a normal distribution (bell-shaped curve).\n",
    "\n",
    "This experiment demonstrates the Central Limit Theorem in action: even though the original data comes from a uniform distribution, the distribution of the sample means becomes approximately normal when the sample size is reasonably large."
   ]
  },
  {
   "cell_type": "code",
   "execution_count": 7,
   "id": "cf6aaf64",
   "metadata": {},
   "outputs": [
    {
     "data": {
      "image/png": "[encoded data removed]",
      "text/plain": [
       "<Figure size 1200x500 with 2 Axes>"
      ]
     },
     "metadata": {},
     "output_type": "display_data"
    }
   ],
   "source": [
    "import numpy as np\n",
    "import matplotlib.pyplot as plt\n",
    "\n",
    "def central_limit_theorem():\n",
    "    # Step a: Generate 10,000 random numbers from uniform distribution (0,1)\n",
    "    data = np.random.uniform(0, 1, 10000)\n",
    "\n",
    "    # Step b: Take 1000 samples, each of size n=30\n",
    "    sample_means = []\n",
    "    n = 30\n",
    "    for _ in range(1000):\n",
    "        sample = np.random.choice(data, size=n, replace=True)\n",
    "        sample_means.append(np.mean(sample))\n",
    "\n",
    "    # Step c: Visualization\n",
    "    plt.figure(figsize=(12, 5))\n",
    "\n",
    "    # Left: Original uniform distribution\n",
    "    plt.subplot(1, 2, 1)\n",
    "    plt.hist(data, bins=30, color='skyblue', edgecolor='black', density=True)\n",
    "    plt.title(\"Original Uniform Distribution (0,1)\")\n",
    "    plt.xlabel(\"Value\")\n",
    "    plt.ylabel(\"Density\")\n",
    "\n",
    "    # Right: Distribution of sample means\n",
    "    plt.subplot(1, 2, 2)\n",
    "    plt.hist(sample_means, bins=30, color='lightcoral', edgecolor='black', density=True)\n",
    "    plt.title(\"Distribution of Sample Means (n=30)\")\n",
    "    plt.xlabel(\"Sample Mean\")\n",
    "    plt.ylabel(\"Density\")\n",
    "\n",
    "    plt.tight_layout()\n",
    "    plt.show()\n",
    "\n",
    "# Run simulation\n",
    "central_limit_theorem()\n"
   ]
  }
 ],
 "metadata": {
  "kernelspec": {
   "display_name": "Python 3",
   "language": "python",
   "name": "python3"
  },
  "language_info": {
   "codemirror_mode": {
    "name": "ipython",
    "version": 3
   },
   "file_extension": ".py",
   "mimetype": "text/x-python",
   "name": "python",
   "nbconvert_exporter": "python",
   "pygments_lexer": "ipython3",
   "version": "3.11.9"
  }
 },
 "nbformat": 4,
 "nbformat_minor": 5
}
